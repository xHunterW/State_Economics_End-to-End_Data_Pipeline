{
 "cells": [
  {
   "cell_type": "markdown",
   "metadata": {},
   "source": [
    "# Final Project API: Loading data"
   ]
  },
  {
   "cell_type": "markdown",
   "metadata": {},
   "source": [
    "``API Endpoint: Get first x rows of data from postgres SQL for any data table user wants to see: User needs to fill in an index number between 0-10 for which table they want to choose, and also return how many rows of data they would like to see``"
   ]
  },
  {
   "cell_type": "code",
   "execution_count": 5,
   "metadata": {
    "tags": []
   },
   "outputs": [
    {
     "name": "stdout",
     "output_type": "stream",
     "text": [
      "Response Status Code: 200\n",
      "Response Content: b\"Here are the column names: ['year', 'federal_minimum_wage']. and here are the 50 rows chosen: [(1968, 1.15), (1969, 1.15), (1970, 1.3), (1971, 1.3), (1972, 1.6), (1973, 1.6), (1974, 1.6), (1975, 1.6), (1976, 2.2), (1977, 2.2), (1978, 2.2), (1979, 2.9), (1980, 3.1), (1981, 3.35), (1982, 3.35), (1983, 3.35), (1984, 3.35), (1985, 3.35), (1986, 3.35), (1987, 3.35), (1988, 3.35), (1989, 3.35), (1990, 3.35), (1991, 3.8), (1992, 4.25), (1993, 4.25), (1994, 4.25), (1995, 4.25), (1996, 4.25), (1997, 4.75), (1998, 5.15), (1999, 5.15), (2000, 5.15), (2001, 5.15), (2002, 5.15), (2003, 5.15), (2004, 5.15), (2005, 5.15), (2006, 5.15), (2007, 5.15), (2008, 5.85), (2009, 6.55), (2010, 7.25), (2011, 7.25), (2012, 7.25), (2013, 7.25), (2014, 7.25), (2015, 7.25), (2016, 7.25), (2017, 7.25)].\"\n"
     ]
    }
   ],
   "source": [
    "import psycopg2\n",
    "import requests\n",
    "import json\n",
    "#Set endpoint url\n",
    "url = 'http://127.0.0.1:80/get_data'\n",
    "\n",
    "\n",
    "\n",
    "tables = ['table_Unemployment', 'table_HouseholdIncome2021', 'table_industry', 'table_location', 'table_school_expense_type', \n",
    "          'table_school_expenses', 'table_state_min_wage', 'table_inflation', 'table_CPI', 'table_fed_min_wage', 'table_gdp']\n",
    "\n",
    "#### Fill in index and limit below\n",
    "data = {\n",
    "   \"table\": tables[9],\n",
    "    \"limit\": 50}\n",
    "\n",
    "#Getting all data from postgres sql\n",
    "response = requests.post(url, json=json.dumps(data))\n",
    "\n",
    "\n",
    "# Print the response status code and content\n",
    "print('Response Status Code:', response.status_code)\n",
    "print('Response Content:', response.content)\n"
   ]
  },
  {
   "cell_type": "code",
   "execution_count": null,
   "metadata": {},
   "outputs": [],
   "source": []
  }
 ],
 "metadata": {
  "kernelspec": {
   "display_name": "Python 3 (ipykernel)",
   "language": "python",
   "name": "python3"
  },
  "language_info": {
   "codemirror_mode": {
    "name": "ipython",
    "version": 3
   },
   "file_extension": ".py",
   "mimetype": "text/x-python",
   "name": "python",
   "nbconvert_exporter": "python",
   "pygments_lexer": "ipython3",
   "version": "3.10.12"
  }
 },
 "nbformat": 4,
 "nbformat_minor": 4
}
